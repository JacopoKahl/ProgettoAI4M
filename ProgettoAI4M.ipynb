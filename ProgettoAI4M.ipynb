{
  "nbformat": 4,
  "nbformat_minor": 0,
  "metadata": {
    "colab": {
      "name": "ProgettoAI4M.ipynb",
      "provenance": [],
      "collapsed_sections": [],
      "authorship_tag": "ABX9TyOhUrKFaUQ51hxMzWpSoUTr",
      "include_colab_link": true
    },
    "kernelspec": {
      "name": "python3",
      "display_name": "Python 3"
    }
  },
  "cells": [
    {
      "cell_type": "markdown",
      "metadata": {
        "id": "view-in-github",
        "colab_type": "text"
      },
      "source": [
        "<a href=\"https://colab.research.google.com/github/JacopoKahl/ProgettoAI4M/blob/main/ProgettoAI4M.ipynb\" target=\"_parent\"><img src=\"https://colab.research.google.com/assets/colab-badge.svg\" alt=\"Open In Colab\"/></a>"
      ]
    },
    {
      "cell_type": "markdown",
      "metadata": {
        "id": "jJFnPzEV8k8Q"
      },
      "source": [
        "#Progetto d'esame per AI4M 2020/2021\n",
        "\n",
        "Lo scopo di questo progetto prevede lo studio e l'implementazioni di un algoritmo di Deep Learning che permetta la creazione di ricette per la cucina.\n",
        "\n",
        "1- La prima parte permette, dati in input un set di parole chiave relative a degli alimenti ipoteticamente presenti in casa, di avere un set di dati in entrata utili per fare dei confronti con delle ricette attualmente presenti online.\n",
        "\n",
        "2- La seconda parte permette di fare uno scraping delle pagine web di alcuni portali di ricette di cucina al fine di estrapolare (utilizzando le keywords precedenti) un set di ricette, prendendo in esame solo gli alimenti presenti al momento in casa dell'utente.\n",
        "\n",
        "3- Estrapola il testo delle ricette e crea un nuovo set, con diversi pesi per gli alimenti del primo set, e crea un ricettario da poter proporre.\n",
        "\n",
        "4- Dai testi estrapolati rielabora i testi creando una o più ricette da poter proporre."
      ]
    },
    {
      "cell_type": "markdown",
      "metadata": {
        "id": "kLyB__dp-G0A"
      },
      "source": [
        "##Input degli alimenti presenti in casa"
      ]
    },
    {
      "cell_type": "markdown",
      "metadata": {
        "id": "KELRzSmX98GQ"
      },
      "source": [
        "###Importazione librerie"
      ]
    },
    {
      "cell_type": "code",
      "metadata": {
        "id": "4on66Vc7_ru-"
      },
      "source": [
        "import requests #librerie che permette di effettuare richieste HTTP senza dover aggiungere manualmente le query agli URL\n",
        "from bs4 import BeautifulSoup #importa la libreria BeautifulSoup che permette estrapolare contenuti dall'HTML e da XML"
      ],
      "execution_count": 14,
      "outputs": []
    },
    {
      "cell_type": "code",
      "metadata": {
        "id": "PburR9kDG5Yt"
      },
      "source": [
        "food_list = 'pasta'"
      ],
      "execution_count": 17,
      "outputs": []
    },
    {
      "cell_type": "markdown",
      "metadata": {
        "id": "EUrB3clc_jLh"
      },
      "source": [
        "##Scraping di Giallo Zafferano"
      ]
    },
    {
      "cell_type": "markdown",
      "metadata": {
        "id": "sCqBOAbhBn_x"
      },
      "source": [
        "Vengono passati gli URL delle pagine web dove vogliamo estrapolare i dati. Le qury vengono passate per instanziare l'oggetto URL, che cercherà all'interno dei siti web le ricette in base agli alimenti passati in input."
      ]
    },
    {
      "cell_type": "code",
      "metadata": {
        "id": "1q1jRtqACGcA",
        "outputId": "e346f399-b7fa-4149-fab9-726773995ceb",
        "colab": {
          "base_uri": "https://localhost:8080/",
          "height": 646
        }
      },
      "source": [
        "URL = 'https://www.giallozafferano.it/ricerca-ricette/{}'.format(food_list) #Viene dato in input gli URL con le query di ricerca che corrispondono agli input del dataset alimenti in casa. Il metodo \"format\" inserisce l'alimento all'interno della stringa\n",
        "page = requests.get(URL) #Crea l'oggetto pagina che crea una richiesta GET per la pagina passata\n",
        "\n",
        "soup = BeautifulSoup(page.content, 'html.parser') #Parsing della pagina HTML\n",
        "title_recipes = soup.find_all('h2')[0:10] #Estrapola i primi 10 H2 presenti nella pagina che hanno al proprio interno la Keyword della ricetta da noi cercata\n",
        "\n",
        "print(title_recipes)"
      ],
      "execution_count": 29,
      "outputs": [
        {
          "output_type": "stream",
          "text": [
            "[<h2 class=\"gz-title\">Ravioli: le migliori ricette</h2>, <h2 class=\"gz-title\">\n",
            "<a href=\"https://ricette.giallozafferano.it/Pasta-alla-gricia.html\" title=\"Pasta alla gricia\">\n",
            "          Pasta alla gricia\n",
            "        </a>\n",
            "</h2>, <h2 class=\"gz-title\">\n",
            "<a href=\"https://ricette.giallozafferano.it/Pasta-con-la-zucca.html\" title=\"Pasta con la zucca\">\n",
            "          Pasta con la zucca\n",
            "        </a>\n",
            "</h2>, <h2 class=\"gz-title\">\n",
            "<a href=\"https://ricette.giallozafferano.it/Pasta-al-forno.html\" title=\"Pasta al forno\">\n",
            "          Pasta al forno\n",
            "        </a>\n",
            "</h2>, <h2 class=\"gz-title\">\n",
            "<a href=\"https://ricette.giallozafferano.it/Pasta-e-zucchine.html\" title=\"Pasta e zucchine\">\n",
            "          Pasta e zucchine\n",
            "        </a>\n",
            "</h2>, <h2 class=\"gz-title\">\n",
            "<a href=\"https://ricette.giallozafferano.it/Pasta-e-patate-alla-napoletana.html\" title=\"Pasta e patate alla napoletana\">\n",
            "          Pasta e patate alla napoletana\n",
            "        </a>\n",
            "</h2>, <h2 class=\"gz-title\">\n",
            "<a href=\"https://ricette.giallozafferano.it/Spaghetti-alla-Norma.html\" title=\"Pasta alla Norma\">\n",
            "          Pasta alla Norma\n",
            "        </a>\n",
            "</h2>, <h2 class=\"gz-title\">\n",
            "<a href=\"https://ricette.giallozafferano.it/Pasta-e-lenticchie.html\" title=\"Pasta e lenticchie\">\n",
            "          Pasta e lenticchie\n",
            "        </a>\n",
            "</h2>, <h2 class=\"gz-title\">\n",
            "<a href=\"https://ricette.giallozafferano.it/Pasta-alla-sorrentina.html\" title=\"Pasta alla sorrentina\">\n",
            "          Pasta alla sorrentina\n",
            "        </a>\n",
            "</h2>, <h2 class=\"gz-title\">\n",
            "<a href=\"https://ricette.giallozafferano.it/Pasta-alla-cenere.html\" title=\"Pasta alla cenere\">\n",
            "          Pasta alla cenere\n",
            "        </a>\n",
            "</h2>]\n"
          ],
          "name": "stdout"
        }
      ]
    },
    {
      "cell_type": "markdown",
      "metadata": {
        "id": "15lEGpJYPbdX"
      },
      "source": [
        "Estrae dalla pagina della ricetta la lista degli ingredienti e il testo della preparazione della ricetta"
      ]
    },
    {
      "cell_type": "code",
      "metadata": {
        "id": "MCp-7ikJLrtI",
        "outputId": "909961b5-b732-44a2-ce2d-94b47dd6b97e",
        "colab": {
          "base_uri": "https://localhost:8080/",
          "height": 71
        }
      },
      "source": [
        "URL = 'https://ricette.giallozafferano.it/Pasta-e-patate-alla-napoletana.html' #Viene dato in input gli URL con le query di ricerca che corrispondono agli input del dataset alimenti in casa. Il metodo \"format\" inserisce l'alimento all'interno della stringa\n",
        "page_recipe = requests.get(URL) #Crea l'oggetto pagina che crea una richiesta GET per la pagina passata\n",
        "\n",
        "soup = BeautifulSoup(page_recipe.content, 'html.parser') #Parsing della pagina HTML\n",
        "#list_food_recipes = soup.find_all(class_=\"gz-ingredient\") #Estrapola grazie alla classe CSS le keywords degli ingredienti\n",
        "#text_recipes = soup.find_all(class_=\"gz-content-recipe-step\") #Estrapola grazie alla classe CSS le keywords degli ingredienti\n",
        "\n",
        "#DOVREI DEFINIRE UNA FUNZIONE DIVERSA SIA PER GLI INGREDIENTI CHE PER LA PREPARAZIONE\n",
        "\n",
        "for dd in soup.find_all(class_=\"gz-ingredient\"): #Estrapola grazie alla classe CSS le keywords degli ingredienti togliendo i relativi tag HTML \"dd\" e li inserisci nell'array di list_food_recipes\n",
        "  singular_ingredients = dd.get_text() #Preleva solo il testo ignorando i tag HTML\n",
        "  the_list = singular_ingredients.split() #Il metodo \"splith\" splitta la stringa in una lista togliendo anche gli spazi bianchi e gli a capo (\\n, \\t)\n",
        "  list_food_recipes.append(the_list)  #Il metodo \"append\" aggiunge un elemento finale alla lista, nel nostro caso \"chiude\" gli elementi Singolo Ingrediente e Quantità\n",
        "\n",
        "print(list_food_recipes) \n",
        "\n",
        "\n",
        "\n",
        "for div in soup.find_all(class_=\"gz-content-recipe-step\"): #Estrapola grazie alla classe CSS le keywords degli ingredienti togliendo i relativi tag HTML \"div\"\n",
        "  singular_recipe_paragraph = div.get_text()\n",
        "  the_recipe = singular_recipe_paragraph\n",
        "  text_recipes.append(the_recipe.strip()) #Devo capire come togliere \\n\n",
        "\n",
        "print(text_recipes)\n",
        "\n",
        "#print(list_food_recipes, text_recipes)"
      ],
      "execution_count": 137,
      "outputs": [
        {
          "output_type": "stream",
          "text": [
            "[['Pasta', 'Mista', '320', 'g'], ['Patate', '750', 'g'], ['Sedano', '150', 'g'], ['Carote', '150', 'g'], ['Cipolle', 'bianche', '1'], ['Lardo', '130', 'g'], ['Concentrato', 'di', 'pomodoro', '20', 'g'], ['Rosmarino', '1', 'rametto'], ['Parmigiano', 'Reggiano', 'DOP', 'la', 'crosta', '1'], ['Olio', 'extravergine', \"d'oliva\", 'q.b.'], ['Sale', 'fino', 'q.b.'], ['Pepe', 'nero', 'q.b.'], ['Pasta', 'Mista', '320', 'g'], ['Patate', '750', 'g'], ['Sedano', '150', 'g'], ['Carote', '150', 'g'], ['Cipolle', 'bianche', '1'], ['Lardo', '130', 'g'], ['Concentrato', 'di', 'pomodoro', '20', 'g'], ['Rosmarino', '1', 'rametto'], ['Parmigiano', 'Reggiano', 'DOP', 'la', 'crosta', '1'], ['Olio', 'extravergine', \"d'oliva\", 'q.b.'], ['Sale', 'fino', 'q.b.'], ['Pepe', 'nero', 'q.b.'], ['Pasta', 'Mista', '320', 'g'], ['Patate', '750', 'g'], ['Sedano', '150', 'g'], ['Carote', '150', 'g'], ['Cipolle', 'bianche', '1'], ['Lardo', '130', 'g'], ['Concentrato', 'di', 'pomodoro', '20', 'g'], ['Rosmarino', '1', 'rametto'], ['Parmigiano', 'Reggiano', 'DOP', 'la', 'crosta', '1'], ['Olio', 'extravergine', \"d'oliva\", 'q.b.'], ['Sale', 'fino', 'q.b.'], ['Pepe', 'nero', 'q.b.'], ['Pasta', 'Mista', '320', 'g'], ['Patate', '750', 'g'], ['Sedano', '150', 'g'], ['Carote', '150', 'g'], ['Cipolle', 'bianche', '1'], ['Lardo', '130', 'g'], ['Concentrato', 'di', 'pomodoro', '20', 'g'], ['Rosmarino', '1', 'rametto'], ['Parmigiano', 'Reggiano', 'DOP', 'la', 'crosta', '1'], ['Olio', 'extravergine', \"d'oliva\", 'q.b.'], ['Sale', 'fino', 'q.b.'], ['Pepe', 'nero', 'q.b.'], ['Pasta', 'Mista', '320', 'g'], ['Patate', '750', 'g'], ['Sedano', '150', 'g'], ['Carote', '150', 'g'], ['Cipolle', 'bianche', '1'], ['Lardo', '130', 'g'], ['Concentrato', 'di', 'pomodoro', '20', 'g'], ['Rosmarino', '1', 'rametto'], ['Parmigiano', 'Reggiano', 'DOP', 'la', 'crosta', '1'], ['Olio', 'extravergine', \"d'oliva\", 'q.b.'], ['Sale', 'fino', 'q.b.'], ['Pepe', 'nero', 'q.b.'], ['Pasta', 'Mista', '320', 'g'], ['Patate', '750', 'g'], ['Sedano', '150', 'g'], ['Carote', '150', 'g'], ['Cipolle', 'bianche', '1'], ['Lardo', '130', 'g'], ['Concentrato', 'di', 'pomodoro', '20', 'g'], ['Rosmarino', '1', 'rametto'], ['Parmigiano', 'Reggiano', 'DOP', 'la', 'crosta', '1'], ['Olio', 'extravergine', \"d'oliva\", 'q.b.'], ['Sale', 'fino', 'q.b.'], ['Pepe', 'nero', 'q.b.'], ['Pasta', 'Mista', '320', 'g'], ['Patate', '750', 'g'], ['Sedano', '150', 'g'], ['Carote', '150', 'g'], ['Cipolle', 'bianche', '1'], ['Lardo', '130', 'g'], ['Concentrato', 'di', 'pomodoro', '20', 'g'], ['Rosmarino', '1', 'rametto'], ['Parmigiano', 'Reggiano', 'DOP', 'la', 'crosta', '1'], ['Olio', 'extravergine', \"d'oliva\", 'q.b.'], ['Sale', 'fino', 'q.b.'], ['Pepe', 'nero', 'q.b.'], ['Pasta', 'Mista', '320', 'g'], ['Patate', '750', 'g'], ['Sedano', '150', 'g'], ['Carote', '150', 'g'], ['Cipolle', 'bianche', '1'], ['Lardo', '130', 'g'], ['Concentrato', 'di', 'pomodoro', '20', 'g'], ['Rosmarino', '1', 'rametto'], ['Parmigiano', 'Reggiano', 'DOP', 'la', 'crosta', '1'], ['Olio', 'extravergine', \"d'oliva\", 'q.b.'], ['Sale', 'fino', 'q.b.'], ['Pepe', 'nero', 'q.b.'], ['Pasta', 'Mista', '320', 'g'], ['Patate', '750', 'g'], ['Sedano', '150', 'g'], ['Carote', '150', 'g'], ['Cipolle', 'bianche', '1'], ['Lardo', '130', 'g'], ['Concentrato', 'di', 'pomodoro', '20', 'g'], ['Rosmarino', '1', 'rametto'], ['Parmigiano', 'Reggiano', 'DOP', 'la', 'crosta', '1'], ['Olio', 'extravergine', \"d'oliva\", 'q.b.'], ['Sale', 'fino', 'q.b.'], ['Pepe', 'nero', 'q.b.'], ['Pasta', 'Mista', '320', 'g'], ['Patate', '750', 'g'], ['Sedano', '150', 'g'], ['Carote', '150', 'g'], ['Cipolle', 'bianche', '1'], ['Lardo', '130', 'g'], ['Concentrato', 'di', 'pomodoro', '20', 'g'], ['Rosmarino', '1', 'rametto'], ['Parmigiano', 'Reggiano', 'DOP', 'la', 'crosta', '1'], ['Olio', 'extravergine', \"d'oliva\", 'q.b.'], ['Sale', 'fino', 'q.b.'], ['Pepe', 'nero', 'q.b.'], ['Pasta', 'Mista', '320', 'g'], ['Patate', '750', 'g'], ['Sedano', '150', 'g'], ['Carote', '150', 'g'], ['Cipolle', 'bianche', '1'], ['Lardo', '130', 'g'], ['Concentrato', 'di', 'pomodoro', '20', 'g'], ['Rosmarino', '1', 'rametto'], ['Parmigiano', 'Reggiano', 'DOP', 'la', 'crosta', '1'], ['Olio', 'extravergine', \"d'oliva\", 'q.b.'], ['Sale', 'fino', 'q.b.'], ['Pepe', 'nero', 'q.b.'], ['Pasta', 'Mista', '320', 'g'], ['Patate', '750', 'g'], ['Sedano', '150', 'g'], ['Carote', '150', 'g'], ['Cipolle', 'bianche', '1'], ['Lardo', '130', 'g'], ['Concentrato', 'di', 'pomodoro', '20', 'g'], ['Rosmarino', '1', 'rametto'], ['Parmigiano', 'Reggiano', 'DOP', 'la', 'crosta', '1'], ['Olio', 'extravergine', \"d'oliva\", 'q.b.'], ['Sale', 'fino', 'q.b.'], ['Pepe', 'nero', 'q.b.'], ['Pasta', 'Mista', '320', 'g'], ['Patate', '750', 'g'], ['Sedano', '150', 'g'], ['Carote', '150', 'g'], ['Cipolle', 'bianche', '1'], ['Lardo', '130', 'g'], ['Concentrato', 'di', 'pomodoro', '20', 'g'], ['Rosmarino', '1', 'rametto'], ['Parmigiano', 'Reggiano', 'DOP', 'la', 'crosta', '1'], ['Olio', 'extravergine', \"d'oliva\", 'q.b.'], ['Sale', 'fino', 'q.b.'], ['Pepe', 'nero', 'q.b.'], ['Pasta', 'Mista', '320', 'g'], ['Patate', '750', 'g'], ['Sedano', '150', 'g'], ['Carote', '150', 'g'], ['Cipolle', 'bianche', '1'], ['Lardo', '130', 'g'], ['Concentrato', 'di', 'pomodoro', '20', 'g'], ['Rosmarino', '1', 'rametto'], ['Parmigiano', 'Reggiano', 'DOP', 'la', 'crosta', '1'], ['Olio', 'extravergine', \"d'oliva\", 'q.b.'], ['Sale', 'fino', 'q.b.'], ['Pepe', 'nero', 'q.b.'], ['Pasta', 'Mista', '320', 'g'], ['Patate', '750', 'g'], ['Sedano', '150', 'g'], ['Carote', '150', 'g'], ['Cipolle', 'bianche', '1'], ['Lardo', '130', 'g'], ['Concentrato', 'di', 'pomodoro', '20', 'g'], ['Rosmarino', '1', 'rametto'], ['Parmigiano', 'Reggiano', 'DOP', 'la', 'crosta', '1'], ['Olio', 'extravergine', \"d'oliva\", 'q.b.'], ['Sale', 'fino', 'q.b.'], ['Pepe', 'nero', 'q.b.'], ['Pasta', 'Mista', '320', 'g'], ['Patate', '750', 'g'], ['Sedano', '150', 'g'], ['Carote', '150', 'g'], ['Cipolle', 'bianche', '1'], ['Lardo', '130', 'g'], ['Concentrato', 'di', 'pomodoro', '20', 'g'], ['Rosmarino', '1', 'rametto'], ['Parmigiano', 'Reggiano', 'DOP', 'la', 'crosta', '1'], ['Olio', 'extravergine', \"d'oliva\", 'q.b.'], ['Sale', 'fino', 'q.b.'], ['Pepe', 'nero', 'q.b.'], ['Pasta', 'Mista', '320', 'g'], ['Patate', '750', 'g'], ['Sedano', '150', 'g'], ['Carote', '150', 'g'], ['Cipolle', 'bianche', '1'], ['Lardo', '130', 'g'], ['Concentrato', 'di', 'pomodoro', '20', 'g'], ['Rosmarino', '1', 'rametto'], ['Parmigiano', 'Reggiano', 'DOP', 'la', 'crosta', '1'], ['Olio', 'extravergine', \"d'oliva\", 'q.b.'], ['Sale', 'fino', 'q.b.'], ['Pepe', 'nero', 'q.b.'], ['Pasta', 'Mista', '320', 'g'], ['Patate', '750', 'g'], ['Sedano', '150', 'g'], ['Carote', '150', 'g'], ['Cipolle', 'bianche', '1'], ['Lardo', '130', 'g'], ['Concentrato', 'di', 'pomodoro', '20', 'g'], ['Rosmarino', '1', 'rametto'], ['Parmigiano', 'Reggiano', 'DOP', 'la', 'crosta', '1'], ['Olio', 'extravergine', \"d'oliva\", 'q.b.'], ['Sale', 'fino', 'q.b.'], ['Pepe', 'nero', 'q.b.'], ['Pasta', 'Mista', '320', 'g'], ['Patate', '750', 'g'], ['Sedano', '150', 'g'], ['Carote', '150', 'g'], ['Cipolle', 'bianche', '1'], ['Lardo', '130', 'g'], ['Concentrato', 'di', 'pomodoro', '20', 'g'], ['Rosmarino', '1', 'rametto'], ['Parmigiano', 'Reggiano', 'DOP', 'la', 'crosta', '1'], ['Olio', 'extravergine', \"d'oliva\", 'q.b.'], ['Sale', 'fino', 'q.b.'], ['Pepe', 'nero', 'q.b.']]\n",
            "['\\n\\n\\n\\n\\nPer preparare la pasta e patate alla napoletana cominciate mondando sedano, carota e cipolla e poi sminuzzateli finemente (1-2-3).\\n', '\\n\\n\\n\\n\\nPoi pulite anche le patate e tagliatele a tocchetti irregolari di circa 2 cm 4. Infine affettate e poi sminuzzate il lardo 5. A questo punto avete tutto quello che vi occorre, spostatevi ai fornelli. Mettete sul fuoco una casseruola e un giro d’olio, aggiungete il lardo e lasciatelo scaldare a fuoco dolce per qualche minuto 6.\\n', '\\n\\n\\n\\n\\nPoi tuffate il trito di cipolla 7, carote e sedano 8. Dopo qualche minuto unite le patate 9\\n', '\\n\\n\\n\\n\\ne lasciatele insaporire per qualche minuto mescolando di tanto in tanto evitando così che bruci il fondo 10. Aggiungete anche il rosmarino 11 e la crosta di formaggio (prima potete lavarla e grattare la parte esterna) 12;\\n', '\\n\\n\\n\\n\\nunite anche il concentrato di pomodoro 13 e mescolate. Versate 600 g di acqua calda 14, aggiustate di pepe 15.\\n', '\\n\\n\\n\\n\\ne di sale 16. Infine coprite con il coperchio lasciando cuocere a fuoco dolce per 30 minuti; al bisogno potete aggiungere ancora un po’ di acqua 17. Trascorso il tempo le patate risulteranno ammorbidite, schiacciatene una parte con il dorso del cucchiaio di legno 18; a questo punto versate la pasta mista.\\n', '\\n\\n\\n\\n\\nAggiungete subito altri 250 g di acqua calda 19 e portate il tutto a bollore. Lasciate cuocere la pasta mescolando di tanto in tanto: se dovesse servire potrete aggiungere altra acqua al bisogno; assicuratevi che sia giusto di sale. A fine cottura però ricordate che il composto dovrà risultare cremoso e quasi asciutto. Quindi eliminate i rametti di rosmarino 20 e impiattate la vostra pasta e patate alla napoletana guarnendo con un giro di olio 21.\\n', 'Per preparare la pasta e patate alla napoletana cominciate mondando sedano, carota e cipolla e poi sminuzzateli finemente (1-2-3).\\n', 'Poi pulite anche le patate e tagliatele a tocchetti irregolari di circa 2 cm 4. Infine affettate e poi sminuzzate il lardo 5. A questo punto avete tutto quello che vi occorre, spostatevi ai fornelli. Mettete sul fuoco una casseruola e un giro d’olio, aggiungete il lardo e lasciatelo scaldare a fuoco dolce per qualche minuto 6.\\n', 'Poi tuffate il trito di cipolla 7, carote e sedano 8. Dopo qualche minuto unite le patate 9\\n', 'e lasciatele insaporire per qualche minuto mescolando di tanto in tanto evitando così che bruci il fondo 10. Aggiungete anche il rosmarino 11 e la crosta di formaggio (prima potete lavarla e grattare la parte esterna) 12;\\n', 'unite anche il concentrato di pomodoro 13 e mescolate. Versate 600 g di acqua calda 14, aggiustate di pepe 15.\\n', 'e di sale 16. Infine coprite con il coperchio lasciando cuocere a fuoco dolce per 30 minuti; al bisogno potete aggiungere ancora un po’ di acqua 17. Trascorso il tempo le patate risulteranno ammorbidite, schiacciatene una parte con il dorso del cucchiaio di legno 18; a questo punto versate la pasta mista.\\n', 'Aggiungete subito altri 250 g di acqua calda 19 e portate il tutto a bollore. Lasciate cuocere la pasta mescolando di tanto in tanto: se dovesse servire potrete aggiungere altra acqua al bisogno; assicuratevi che sia giusto di sale. A fine cottura però ricordate che il composto dovrà risultare cremoso e quasi asciutto. Quindi eliminate i rametti di rosmarino 20 e impiattate la vostra pasta e patate alla napoletana guarnendo con un giro di olio 21.\\n', ['', '', '', '', '', 'Per preparare la pasta e patate alla napoletana cominciate mondando sedano, carota e cipolla e poi sminuzzateli finemente (1-2-3).'], ['', '', '', '', '', 'Poi pulite anche le patate e tagliatele a tocchetti irregolari di circa 2 cm 4. Infine affettate e poi sminuzzate il lardo 5. A questo punto avete tutto quello che vi occorre, spostatevi ai fornelli. Mettete sul fuoco una casseruola e un giro d’olio, aggiungete il lardo e lasciatelo scaldare a fuoco dolce per qualche minuto 6.'], ['', '', '', '', '', 'Poi tuffate il trito di cipolla 7, carote e sedano 8. Dopo qualche minuto unite le patate 9'], ['', '', '', '', '', 'e lasciatele insaporire per qualche minuto mescolando di tanto in tanto evitando così che bruci il fondo 10. Aggiungete anche il rosmarino 11 e la crosta di formaggio (prima potete lavarla e grattare la parte esterna) 12;'], ['', '', '', '', '', 'unite anche il concentrato di pomodoro 13 e mescolate. Versate 600 g di acqua calda 14, aggiustate di pepe 15.'], ['', '', '', '', '', 'e di sale 16. Infine coprite con il coperchio lasciando cuocere a fuoco dolce per 30 minuti; al bisogno potete aggiungere ancora un po’ di acqua 17. Trascorso il tempo le patate risulteranno ammorbidite, schiacciatene una parte con il dorso del cucchiaio di legno 18; a questo punto versate la pasta mista.'], ['', '', '', '', '', 'Aggiungete subito altri 250 g di acqua calda 19 e portate il tutto a bollore. Lasciate cuocere la pasta mescolando di tanto in tanto: se dovesse servire potrete aggiungere altra acqua al bisogno; assicuratevi che sia giusto di sale. A fine cottura però ricordate che il composto dovrà risultare cremoso e quasi asciutto. Quindi eliminate i rametti di rosmarino 20 e impiattate la vostra pasta e patate alla napoletana guarnendo con un giro di olio 21.'], '\\n\\n\\n\\n\\npER PREPARARE LA PASTA E PATATE ALLA NAPOLETANA COMINCIATE MONDANDO SEDANO, CAROTA E CIPOLLA E POI SMINUZZATELI FINEMENTE (1-2-3).\\n', '\\n\\n\\n\\n\\npOI PULITE ANCHE LE PATATE E TAGLIATELE A TOCCHETTI IRREGOLARI DI CIRCA 2 CM 4. iNFINE AFFETTATE E POI SMINUZZATE IL LARDO 5. a QUESTO PUNTO AVETE TUTTO QUELLO CHE VI OCCORRE, SPOSTATEVI AI FORNELLI. mETTETE SUL FUOCO UNA CASSERUOLA E UN GIRO D’OLIO, AGGIUNGETE IL LARDO E LASCIATELO SCALDARE A FUOCO DOLCE PER QUALCHE MINUTO 6.\\n', '\\n\\n\\n\\n\\npOI TUFFATE IL TRITO DI CIPOLLA 7, CAROTE E SEDANO 8. dOPO QUALCHE MINUTO UNITE LE PATATE 9\\n', '\\n\\n\\n\\n\\nE LASCIATELE INSAPORIRE PER QUALCHE MINUTO MESCOLANDO DI TANTO IN TANTO EVITANDO COSÌ CHE BRUCI IL FONDO 10. aGGIUNGETE ANCHE IL ROSMARINO 11 E LA CROSTA DI FORMAGGIO (PRIMA POTETE LAVARLA E GRATTARE LA PARTE ESTERNA) 12;\\n', '\\n\\n\\n\\n\\nUNITE ANCHE IL CONCENTRATO DI POMODORO 13 E MESCOLATE. vERSATE 600 G DI ACQUA CALDA 14, AGGIUSTATE DI PEPE 15.\\n', '\\n\\n\\n\\n\\nE DI SALE 16. iNFINE COPRITE CON IL COPERCHIO LASCIANDO CUOCERE A FUOCO DOLCE PER 30 MINUTI; AL BISOGNO POTETE AGGIUNGERE ANCORA UN PO’ DI ACQUA 17. tRASCORSO IL TEMPO LE PATATE RISULTERANNO AMMORBIDITE, SCHIACCIATENE UNA PARTE CON IL DORSO DEL CUCCHIAIO DI LEGNO 18; A QUESTO PUNTO VERSATE LA PASTA MISTA.\\n', '\\n\\n\\n\\n\\naGGIUNGETE SUBITO ALTRI 250 G DI ACQUA CALDA 19 E PORTATE IL TUTTO A BOLLORE. lASCIATE CUOCERE LA PASTA MESCOLANDO DI TANTO IN TANTO: SE DOVESSE SERVIRE POTRETE AGGIUNGERE ALTRA ACQUA AL BISOGNO; ASSICURATEVI CHE SIA GIUSTO DI SALE. a FINE COTTURA PERÒ RICORDATE CHE IL COMPOSTO DOVRÀ RISULTARE CREMOSO E QUASI ASCIUTTO. qUINDI ELIMINATE I RAMETTI DI ROSMARINO 20 E IMPIATTATE LA VOSTRA PASTA E PATATE ALLA NAPOLETANA GUARNENDO CON UN GIRO DI OLIO 21.\\n', ['', '', '', '', '', 'Per preparare la pasta e patate alla napoletana cominciate mondando sedano, carota e cipolla e poi sminuzzateli finemente (1-2-3).'], ['', '', '', '', '', 'Poi pulite anche le patate e tagliatele a tocchetti irregolari di circa 2 cm 4. Infine affettate e poi sminuzzate il lardo 5. A questo punto avete tutto quello che vi occorre, spostatevi ai fornelli. Mettete sul fuoco una casseruola e un giro d’olio, aggiungete il lardo e lasciatelo scaldare a fuoco dolce per qualche minuto 6.'], ['', '', '', '', '', 'Poi tuffate il trito di cipolla 7, carote e sedano 8. Dopo qualche minuto unite le patate 9'], ['', '', '', '', '', 'e lasciatele insaporire per qualche minuto mescolando di tanto in tanto evitando così che bruci il fondo 10. Aggiungete anche il rosmarino 11 e la crosta di formaggio (prima potete lavarla e grattare la parte esterna) 12;'], ['', '', '', '', '', 'unite anche il concentrato di pomodoro 13 e mescolate. Versate 600 g di acqua calda 14, aggiustate di pepe 15.'], ['', '', '', '', '', 'e di sale 16. Infine coprite con il coperchio lasciando cuocere a fuoco dolce per 30 minuti; al bisogno potete aggiungere ancora un po’ di acqua 17. Trascorso il tempo le patate risulteranno ammorbidite, schiacciatene una parte con il dorso del cucchiaio di legno 18; a questo punto versate la pasta mista.'], ['', '', '', '', '', 'Aggiungete subito altri 250 g di acqua calda 19 e portate il tutto a bollore. Lasciate cuocere la pasta mescolando di tanto in tanto: se dovesse servire potrete aggiungere altra acqua al bisogno; assicuratevi che sia giusto di sale. A fine cottura però ricordate che il composto dovrà risultare cremoso e quasi asciutto. Quindi eliminate i rametti di rosmarino 20 e impiattate la vostra pasta e patate alla napoletana guarnendo con un giro di olio 21.'], ['', '', '', '', '', 'Per preparare la pasta e patate alla napoletana cominciate mondando sedano, carota e cipolla e poi sminuzzateli finemente (1-2-3).'], ['', '', '', '', '', 'Poi pulite anche le patate e tagliatele a tocchetti irregolari di circa 2 cm 4. Infine affettate e poi sminuzzate il lardo 5. A questo punto avete tutto quello che vi occorre, spostatevi ai fornelli. Mettete sul fuoco una casseruola e un giro d’olio, aggiungete il lardo e lasciatelo scaldare a fuoco dolce per qualche minuto 6.'], ['', '', '', '', '', 'Poi tuffate il trito di cipolla 7, carote e sedano 8. Dopo qualche minuto unite le patate 9'], ['', '', '', '', '', 'e lasciatele insaporire per qualche minuto mescolando di tanto in tanto evitando così che bruci il fondo 10. Aggiungete anche il rosmarino 11 e la crosta di formaggio (prima potete lavarla e grattare la parte esterna) 12;'], ['', '', '', '', '', 'unite anche il concentrato di pomodoro 13 e mescolate. Versate 600 g di acqua calda 14, aggiustate di pepe 15.'], ['', '', '', '', '', 'e di sale 16. Infine coprite con il coperchio lasciando cuocere a fuoco dolce per 30 minuti; al bisogno potete aggiungere ancora un po’ di acqua 17. Trascorso il tempo le patate risulteranno ammorbidite, schiacciatene una parte con il dorso del cucchiaio di legno 18; a questo punto versate la pasta mista.'], ['', '', '', '', '', 'Aggiungete subito altri 250 g di acqua calda 19 e portate il tutto a bollore. Lasciate cuocere la pasta mescolando di tanto in tanto: se dovesse servire potrete aggiungere altra acqua al bisogno; assicuratevi che sia giusto di sale. A fine cottura però ricordate che il composto dovrà risultare cremoso e quasi asciutto. Quindi eliminate i rametti di rosmarino 20 e impiattate la vostra pasta e patate alla napoletana guarnendo con un giro di olio 21.'], 'Per preparare la pasta e patate alla napoletana cominciate mondando sedano, carota e cipolla e poi sminuzzateli finemente (1-2-3).', 'Poi pulite anche le patate e tagliatele a tocchetti irregolari di circa 2 cm 4. Infine affettate e poi sminuzzate il lardo 5. A questo punto avete tutto quello che vi occorre, spostatevi ai fornelli. Mettete sul fuoco una casseruola e un giro d’olio, aggiungete il lardo e lasciatelo scaldare a fuoco dolce per qualche minuto 6.', 'Poi tuffate il trito di cipolla 7, carote e sedano 8. Dopo qualche minuto unite le patate 9', 'e lasciatele insaporire per qualche minuto mescolando di tanto in tanto evitando così che bruci il fondo 10. Aggiungete anche il rosmarino 11 e la crosta di formaggio (prima potete lavarla e grattare la parte esterna) 12;', 'unite anche il concentrato di pomodoro 13 e mescolate. Versate 600 g di acqua calda 14, aggiustate di pepe 15.', 'e di sale 16. Infine coprite con il coperchio lasciando cuocere a fuoco dolce per 30 minuti; al bisogno potete aggiungere ancora un po’ di acqua 17. Trascorso il tempo le patate risulteranno ammorbidite, schiacciatene una parte con il dorso del cucchiaio di legno 18; a questo punto versate la pasta mista.', 'Aggiungete subito altri 250 g di acqua calda 19 e portate il tutto a bollore. Lasciate cuocere la pasta mescolando di tanto in tanto: se dovesse servire potrete aggiungere altra acqua al bisogno; assicuratevi che sia giusto di sale. A fine cottura però ricordate che il composto dovrà risultare cremoso e quasi asciutto. Quindi eliminate i rametti di rosmarino 20 e impiattate la vostra pasta e patate alla napoletana guarnendo con un giro di olio 21.']\n"
          ],
          "name": "stdout"
        }
      ]
    }
  ]
}